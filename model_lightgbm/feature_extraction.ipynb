{
 "cells": [
  {
   "cell_type": "code",
   "execution_count": 11,
   "metadata": {},
   "outputs": [
    {
     "name": "stdout",
     "output_type": "stream",
     "text": [
      "The autoreload extension is already loaded. To reload it, use:\n",
      "  %reload_ext autoreload\n"
     ]
    }
   ],
   "source": [
    "%reset -f\n",
    "%load_ext autoreload\n",
    "%autoreload 1\n",
    "\n",
    "import sys\n",
    "from pathlib import Path\n",
    "\n",
    "dist_to_root = 0    # the distance to project root folder\n",
    "_project_root = Path.cwd().parents[dist_to_root]\n",
    "if str(_project_root) not in sys.path:\n",
    "    sys.path.insert(0, str(_project_root))\n",
    "\n",
    "from utils import multiple_split, load_parameters, split_helper, restrict_group_samples"
   ]
  },
  {
   "cell_type": "code",
   "execution_count": 12,
   "metadata": {},
   "outputs": [],
   "source": [
    "from functools import partial\n",
    "from pathlib import Path\n",
    "\n",
    "import pandas as pd\n",
    "import numpy as np\n",
    "\n",
    "random_seed = 42\n",
    "np.random.seed(random_seed)"
   ]
  },
  {
   "cell_type": "code",
   "execution_count": 13,
   "metadata": {},
   "outputs": [
    {
     "name": "stdout",
     "output_type": "stream",
     "text": [
      "dataset: nasa\n",
      "labels: ['capacity']\n",
      "features: ['voltage', 'temperature', 'power', 'current', 'discharge_power_rate', 'discharge_current_rate', 'discharge_voltage_rate', 'sum_relativeTime', 'range_voltage', 'range_current', 'range_temperature', 'step_length', 'duration', 'delta_current', 'delta_voltage', 'delta_temperature']\n",
      "data_groupby: ['cycle']\n",
      "num_trials: 2000\n",
      "overlap_mode: no\n",
      "split_size: 20\n",
      "multi_split_size: [5, 10, 15, 20, 30, 40, 50, 70, 100]\n",
      "num_restricted: 20\n"
     ]
    }
   ],
   "source": [
    "# load the parameters from file ---------------------------------------------------------\n",
    "params = load_parameters('parameters.yaml')"
   ]
  },
  {
   "cell_type": "code",
   "execution_count": 14,
   "metadata": {},
   "outputs": [],
   "source": [
    "# define different processors for 3 datasets\n",
    "processors = {\n",
    "    'train': partial(multiple_split, multiple_split_steps=params.multi_split_size, overlap_mode=params.overlap_mode),\n",
    "    'valid': partial(multiple_split, multiple_split_steps=params.multi_split_size, overlap_mode=params.overlap_mode),\n",
    "    'test': partial(restrict_group_samples, num_restricted=params.num_restricted)\n",
    "    # 'test': partial(multiple_split, multiple_split_steps=params.multi_split_size, overlap_mode=params.overlap_mode),\n",
    "}"
   ]
  },
  {
   "cell_type": "code",
   "execution_count": 15,
   "metadata": {},
   "outputs": [
    {
     "name": "stdout",
     "output_type": "stream",
     "text": [
      "load data from ../data/data_nasa\n"
     ]
    }
   ],
   "source": [
    "# data read path\n",
    "source_folder = Path('..')/'data'/f'data_{params.dataset}'\n",
    "print(f'load data from {source_folder}')\n",
    "\n",
    "# data save path \n",
    "dest_folder = Path(f'data_{params.dataset}')/f'{len(params.features)}features_{len(params.multi_split_size)}splits'\n",
    "dest_folder.mkdir(parents=True, exist_ok=True)"
   ]
  },
  {
   "cell_type": "code",
   "execution_count": 16,
   "metadata": {},
   "outputs": [],
   "source": [
    "def sample_dataframe_by_cycle(df, cycle_col='cycle'):\n",
    "\n",
    "    def sample_group(group):\n",
    "        return group.iloc[::5]\n",
    "\n",
    "    sampled_df = df.groupby(cycle_col, group_keys=False).apply(sample_group)\n",
    "\n",
    "    return sampled_df"
   ]
  },
  {
   "cell_type": "code",
   "execution_count": 17,
   "metadata": {},
   "outputs": [
    {
     "name": "stdout",
     "output_type": "stream",
     "text": [
      "valid.csv processing\n",
      "valid -> finished -> saved into data_nasa/16features_9splits/valid_processed.csv\n",
      "test.csv processing\n",
      "test -> finished -> saved into data_nasa/16features_9splits/test_processed.csv\n",
      "train.csv processing\n",
      "train -> finished -> saved into data_nasa/16features_9splits/train_processed.csv\n"
     ]
    }
   ],
   "source": [
    "# read the file from source folder\n",
    "for csv_file in source_folder.glob('*.csv'):\n",
    "    # get the file name\n",
    "    file_name = csv_file.stem\n",
    "    prefix = file_name.split('_')[0]    # prefix in {'train', 'valid', 'test'}\n",
    "\n",
    "    # get the processor for current file\n",
    "    if prefix in processors:\n",
    "        partial_func = processors[prefix]\n",
    "    else:\n",
    "        continue\n",
    "\n",
    "    # read the file\n",
    "    data = pd.read_csv(csv_file)\n",
    "    # data = sample_dataframe_by_cycle(data)\n",
    "    # process the data\n",
    "    print(f'{file_name}.csv processing')\n",
    "    data = split_helper(data, params.data_groupby, params.features, params.labels, partial_func)\n",
    "    # save the processed data\n",
    "    processed_data_path = dest_folder/f'{file_name}_processed.csv'\n",
    "    data.to_csv(processed_data_path, index=False)\n",
    "    print(f'{file_name} -> finished -> saved into {processed_data_path}')"
   ]
  }
 ],
 "metadata": {
  "kernelspec": {
   "display_name": "venvSANDIA",
   "language": "python",
   "name": "python3"
  },
  "language_info": {
   "codemirror_mode": {
    "name": "ipython",
    "version": 3
   },
   "file_extension": ".py",
   "mimetype": "text/x-python",
   "name": "python",
   "nbconvert_exporter": "python",
   "pygments_lexer": "ipython3",
   "version": "3.12.3"
  }
 },
 "nbformat": 4,
 "nbformat_minor": 2
}
