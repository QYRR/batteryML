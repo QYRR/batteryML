{
 "cells": [
  {
   "cell_type": "code",
   "execution_count": null,
   "metadata": {},
   "outputs": [],
   "source": [
    "%load_ext autoreload\n",
    "%autoreload 1\n",
    "\n",
    "import sys\n",
    "from pathlib import Path\n",
    "\n",
    "dist_to_root = 0    # the distance to project root folder\n",
    "_project_root = Path.cwd().parents[dist_to_root]\n",
    "if str(_project_root) not in sys.path:\n",
    "    sys.path.insert(0, str(_project_root))\n",
    "\n",
    "from utils import split_helper, restrict_group_samples, split_cycle_data_no_missing, split_without_overlap"
   ]
  },
  {
   "cell_type": "code",
   "execution_count": 1,
   "metadata": {},
   "outputs": [],
   "source": [
    "from functools import partial\n",
    "from pathlib import Path\n",
    "from sklearn.metrics import r2_score\n",
    "\n",
    "import pandas as pd\n",
    "import numpy as np\n",
    "import pickle\n",
    "from sklearn.metrics import mean_absolute_error"
   ]
  },
  {
   "cell_type": "code",
   "execution_count": 3,
   "metadata": {},
   "outputs": [],
   "source": [
    "labels = ['capacity']\n",
    "data_groupby = ['cycle']"
   ]
  },
  {
   "cell_type": "code",
   "execution_count": 4,
   "metadata": {},
   "outputs": [],
   "source": [
    "def generate_test_firstN(first_N, features):\n",
    "    data = pd.read_csv('../data/data_nasa/test.csv')\n",
    "    test_func = partial(restrict_group_samples, num_restricted=first_N)\n",
    "    test = split_helper(data, data_groupby, features, labels, test_func)\n",
    "    test_x = test[features]\n",
    "    test_y = test[labels]\n",
    "    return test_x,test_y"
   ]
  },
  {
   "cell_type": "code",
   "execution_count": null,
   "metadata": {},
   "outputs": [],
   "source": [
    "def generate_test_eachN(each_N, features):\n",
    "    data = pd.read_csv('../data/data_nasa/test.csv')\n",
    "    # test_func = partial(split_cycle_data_no_missing, threshold=each_N)\n",
    "    test_func = partial(split_without_overlap, split_size=each_N)    \n",
    "    test = split_helper(data, data_groupby, features, labels, test_func)\n",
    "    test_x = test[features]\n",
    "    test_y = test[labels]\n",
    "    return test_x,test_y"
   ]
  },
  {
   "cell_type": "code",
   "execution_count": 6,
   "metadata": {},
   "outputs": [],
   "source": [
    "model_dict = {\n",
    "    'model1': {\n",
    "        'path': '../download/nasa_3features_first20_01380851.pkl',\n",
    "        'features': ['voltage', 'temperature', 'discharge_voltage_rate']\n",
    "    },\n",
    "    'model2': {\n",
    "        'path': '../download/nasa_3features_first20_01575541.pkl',\n",
    "        'features': ['voltage', 'temperature', 'discharge_voltage_rate']\n",
    "    },\n",
    "    'model3': {\n",
    "        'path': '../download/nasa_3features_first20_01776440.pkl',\n",
    "        'features': ['voltage', 'temperature', 'discharge_voltage_rate']\n",
    "    },\n",
    "    'model4': {\n",
    "        'path': 'model_nasa/nasa_3features_first20_0_028749.pkl',\n",
    "        'features': ['discharge_voltage_rate', 'voltage', 'temperature']\n",
    "    },\n",
    "}"
   ]
  },
  {
   "cell_type": "code",
   "execution_count": 7,
   "metadata": {},
   "outputs": [
    {
     "name": "stdout",
     "output_type": "stream",
     "text": [
      "model1: ../download/nasa_3features_first20_01380851.pkl\n",
      "N = 5, mae = 0.0239, r2 = 0.9574\n",
      "N = 10, mae = 0.0220, r2 = 0.9516\n",
      "N = 20, mae = 0.0207, r2 = 0.9535\n",
      "N = 30, mae = 0.0503, r2 = 0.7211\n",
      "N = 50, mae = 0.0464, r2 = 0.8506\n",
      "model2: ../download/nasa_3features_first20_01575541.pkl\n",
      "N = 5, mae = 0.0264, r2 = 0.9431\n",
      "N = 10, mae = 0.0234, r2 = 0.9491\n",
      "N = 20, mae = 0.0212, r2 = 0.9535\n",
      "N = 30, mae = 0.0469, r2 = 0.7694\n",
      "N = 50, mae = 0.0288, r2 = 0.9443\n",
      "model3: ../download/nasa_3features_first20_01776440.pkl\n",
      "N = 5, mae = 0.0242, r2 = 0.9578\n",
      "N = 10, mae = 0.0214, r2 = 0.9575\n",
      "N = 20, mae = 0.0215, r2 = 0.9573\n",
      "N = 30, mae = 0.0462, r2 = 0.7435\n",
      "N = 50, mae = 0.0441, r2 = 0.8535\n",
      "model4: model_nasa/nasa_3features_first20_0_028749.pkl\n",
      "N = 5, mae = 0.0246, r2 = 0.9556\n",
      "N = 10, mae = 0.0220, r2 = 0.9631\n",
      "N = 20, mae = 0.0195, r2 = 0.9661\n",
      "N = 30, mae = 0.0224, r2 = 0.9575\n",
      "N = 50, mae = 0.0287, r2 = 0.9385\n"
     ]
    }
   ],
   "source": [
    "for key,value in model_dict.items():\n",
    "    print(f'{key}: {value.get('path')}')\n",
    "    with open(value.get('path'), 'rb') as file:\n",
    "        best_model = pickle.load(file)\n",
    "\n",
    "    for N in [5,10,20,30,50]:\n",
    "        \n",
    "        # generate test data\n",
    "        # test_x,test_y = generate_test_firstN(N,value.get('features'))\n",
    "        test_x,test_y = generate_test_eachN(N,value.get('features'))\n",
    "\n",
    "        # prediction on model\n",
    "        pred = best_model.predict(test_x)\n",
    "\n",
    "        # calculate mae and r2 score\n",
    "        mae = mean_absolute_error(test_y, pred)\n",
    "        r2 = r2_score(test_y, pred)\n",
    "\n",
    "        print(f\"N = {N}, mae = {mae:.4f}, r2 = {r2:.4f}\")"
   ]
  }
 ],
 "metadata": {
  "kernelspec": {
   "display_name": "Python 3",
   "language": "python",
   "name": "python3"
  },
  "language_info": {
   "codemirror_mode": {
    "name": "ipython",
    "version": 3
   },
   "file_extension": ".py",
   "mimetype": "text/x-python",
   "name": "python",
   "nbconvert_exporter": "python",
   "pygments_lexer": "ipython3",
   "version": "3.12.3"
  }
 },
 "nbformat": 4,
 "nbformat_minor": 2
}
