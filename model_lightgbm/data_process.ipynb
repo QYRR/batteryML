{
 "cells": [
  {
   "cell_type": "code",
   "execution_count": 8,
   "metadata": {},
   "outputs": [
    {
     "name": "stdout",
     "output_type": "stream",
     "text": [
      "The autoreload extension is already loaded. To reload it, use:\n",
      "  %reload_ext autoreload\n"
     ]
    }
   ],
   "source": [
    "%reset -f\n",
    "%load_ext autoreload\n",
    "%autoreload 2\n",
    "\n",
    "import sys\n",
    "import os\n",
    "\n",
    "project_root = os.path.abspath(os.path.join(os.getcwd(), '../'))  # return the projest's root folder\n",
    "sys.path.append(project_root)\n",
    "from utils import multiple_split, load_parameters, split_helper, restrict_group_samples"
   ]
  },
  {
   "cell_type": "code",
   "execution_count": 9,
   "metadata": {},
   "outputs": [],
   "source": [
    "from functools import partial\n",
    "\n",
    "import pandas as pd\n",
    "import numpy as np\n",
    "\n",
    "random_seed = 42\n",
    "np.random.seed(random_seed)"
   ]
  },
  {
   "cell_type": "code",
   "execution_count": 10,
   "metadata": {},
   "outputs": [
    {
     "name": "stdout",
     "output_type": "stream",
     "text": [
      "dataset: nasa\n",
      "features: ['voltage', 'temperature', 'discharge_voltage_rate']\n",
      "labels: ['capacity']\n",
      "data_groupby: ['cycle', 'capacity']\n",
      "num_trials: 500\n",
      "overlap_mode: all\n",
      "split_size: 20\n",
      "multi_split_size: [5, 10, 15, 20, 40, 50, 70, 100]\n",
      "num_restricted: 20\n"
     ]
    }
   ],
   "source": [
    "# load the parameters from file ---------------------------------------------------------\n",
    "params = load_parameters('parameters.yaml')"
   ]
  },
  {
   "cell_type": "code",
   "execution_count": 11,
   "metadata": {},
   "outputs": [],
   "source": [
    "# data read path\n",
    "folder_path = f'../data/data_{params.dataset}/'\n",
    "\n",
    "# data save path \n",
    "data_save_path = f'data_{params.dataset}/'\n",
    "os.makedirs(os.path.dirname(data_save_path), exist_ok=True)"
   ]
  },
  {
   "cell_type": "code",
   "execution_count": 12,
   "metadata": {},
   "outputs": [],
   "source": [
    "# read the data\n",
    "path_dict = {'train': f'{folder_path}train.csv',\n",
    "             'valid': f'{folder_path}valid.csv',\n",
    "             'test': f'{folder_path}test.csv'}\n",
    "data_dict = {key: pd.read_csv(path) for key, path in path_dict.items()}\n",
    "\n",
    "train, valid, test = data_dict['train'], data_dict['valid'], data_dict['test']"
   ]
  },
  {
   "cell_type": "code",
   "execution_count": 13,
   "metadata": {},
   "outputs": [],
   "source": [
    "# DATA_1, DATA_3 ----------------------------------------------------------------------\n",
    "# process the training and validation data\n",
    "partial_train = partial(multiple_split, multiple_split_steps=params.multi_split_size, overlap_mode=params.overlap_mode)\n",
    "partial_valid = partial(multiple_split, multiple_split_steps=params.multi_split_size, overlap_mode=params.overlap_mode)\n",
    "\n",
    "train = split_helper(train, params.data_groupby, params.features, params.labels, partial_train)\n",
    "valid = split_helper(valid, params.data_groupby, params.features, params.labels, partial_valid)\n",
    "\n",
    "train.to_csv(f'{data_save_path}train_processed.csv')\n",
    "valid.to_csv(f'{data_save_path}valid_processed.csv')\n",
    "# DATA_1, DATA_3 ----------------------------------------------------------------------"
   ]
  },
  {
   "cell_type": "code",
   "execution_count": 14,
   "metadata": {},
   "outputs": [],
   "source": [
    "# DATA_1, DATA_3 ----------------------------------------------------------------------\n",
    "# process the testing data\n",
    "partial_test = partial(restrict_group_samples, num_restricted=params.num_restricted)\n",
    "\n",
    "test = split_helper(test, params.data_groupby, params.features, params.labels, partial_test)\n",
    "test.to_csv(f'{data_save_path}test_processed_first{params.num_restricted}.csv')\n",
    "# DATA_1, DATA_3 ----------------------------------------------------------------------"
   ]
  }
 ],
 "metadata": {
  "kernelspec": {
   "display_name": "venvSANDIA",
   "language": "python",
   "name": "python3"
  },
  "language_info": {
   "codemirror_mode": {
    "name": "ipython",
    "version": 3
   },
   "file_extension": ".py",
   "mimetype": "text/x-python",
   "name": "python",
   "nbconvert_exporter": "python",
   "pygments_lexer": "ipython3",
   "version": "3.12.3"
  }
 },
 "nbformat": 4,
 "nbformat_minor": 2
}
