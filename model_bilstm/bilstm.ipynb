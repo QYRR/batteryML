{
 "cells": [
  {
   "cell_type": "code",
   "execution_count": 1,
   "metadata": {},
   "outputs": [
    {
     "name": "stderr",
     "output_type": "stream",
     "text": [
      "2025-01-29 05:44:34.190191: I tensorflow/core/util/port.cc:153] oneDNN custom operations are on. You may see slightly different numerical results due to floating-point round-off errors from different computation orders. To turn them off, set the environment variable `TF_ENABLE_ONEDNN_OPTS=0`.\n",
      "2025-01-29 05:44:34.227029: I external/local_xla/xla/tsl/cuda/cudart_stub.cc:32] Could not find cuda drivers on your machine, GPU will not be used.\n",
      "2025-01-29 05:44:34.246917: I external/local_xla/xla/tsl/cuda/cudart_stub.cc:32] Could not find cuda drivers on your machine, GPU will not be used.\n",
      "2025-01-29 05:44:34.278706: E external/local_xla/xla/stream_executor/cuda/cuda_fft.cc:477] Unable to register cuFFT factory: Attempting to register factory for plugin cuFFT when one has already been registered\n",
      "WARNING: All log messages before absl::InitializeLog() is called are written to STDERR\n",
      "E0000 00:00:1738125874.324076   28662 cuda_dnn.cc:8310] Unable to register cuDNN factory: Attempting to register factory for plugin cuDNN when one has already been registered\n",
      "E0000 00:00:1738125874.337168   28662 cuda_blas.cc:1418] Unable to register cuBLAS factory: Attempting to register factory for plugin cuBLAS when one has already been registered\n",
      "2025-01-29 05:44:34.379033: I tensorflow/core/platform/cpu_feature_guard.cc:210] This TensorFlow binary is optimized to use available CPU instructions in performance-critical operations.\n",
      "To enable the following instructions: AVX2 AVX512F AVX512_VNNI FMA, in other operations, rebuild TensorFlow with the appropriate compiler flags.\n"
     ]
    }
   ],
   "source": [
    "%reset -f\n",
    "%load_ext autoreload\n",
    "%autoreload 2\n",
    "\n",
    "import sys\n",
    "import os\n",
    "\n",
    "project_root = os.path.abspath(os.path.join(os.getcwd(), '../'))  # return the projest's root folder\n",
    "sys.path.append(project_root)\n",
    "from utils import bilstm_optmize, load_parameters, data_reshape, create_bilstm_model"
   ]
  },
  {
   "cell_type": "code",
   "execution_count": 2,
   "metadata": {},
   "outputs": [
    {
     "name": "stderr",
     "output_type": "stream",
     "text": [
      "/root/batteryDT/batteryML/venvSANDIA/lib/python3.12/site-packages/tqdm/auto.py:21: TqdmWarning: IProgress not found. Please update jupyter and ipywidgets. See https://ipywidgets.readthedocs.io/en/stable/user_install.html\n",
      "  from .autonotebook import tqdm as notebook_tqdm\n"
     ]
    }
   ],
   "source": [
    "import pandas as pd\n",
    "import numpy as np\n",
    "import tensorflow as tf\n",
    "from sklearn.preprocessing import MinMaxScaler\n",
    "from sklearn.model_selection import train_test_split\n",
    "import optuna\n",
    "import matplotlib.pyplot as plt\n",
    "from tensorflow.keras.models import load_model\n",
    "\n",
    "# optuna.logging.set_verbosity(optuna.logging.WARNING)\n",
    "\n",
    "random_seed = 42\n",
    "np.random.seed(random_seed)"
   ]
  },
  {
   "cell_type": "code",
   "execution_count": 3,
   "metadata": {},
   "outputs": [
    {
     "name": "stdout",
     "output_type": "stream",
     "text": [
      "dataset: nasa\n",
      "features: ['voltage', 'current', 'temperature', 'relativeTime']\n",
      "labels: ['capacity']\n",
      "data_groupby: ['cycle']\n",
      "time_window: 40\n",
      "n_trials: 10\n"
     ]
    }
   ],
   "source": [
    "# load the parameters from file ---------------------------------------------------------\n",
    "params = load_parameters('parameters.yaml')"
   ]
  },
  {
   "cell_type": "code",
   "execution_count": 4,
   "metadata": {},
   "outputs": [],
   "source": [
    "# data read path\n",
    "folder_path = f'../data/data_{params.dataset}/'\n",
    "\n",
    "# data save path\n",
    "data_save_path = f'data_{params.dataset}/'\n",
    "os.makedirs(os.path.dirname(data_save_path), exist_ok=True)\n",
    "\n",
    "# model save path\n",
    "model_save_path = f'model_{params.dataset}/'\n",
    "os.makedirs(os.path.dirname(model_save_path), exist_ok=True)"
   ]
  },
  {
   "cell_type": "code",
   "execution_count": 5,
   "metadata": {},
   "outputs": [],
   "source": [
    "# read the data ----------------------------------------------------------\n",
    "path_dict = {'train': f'{folder_path}train.csv',\n",
    "             'valid': f'{folder_path}valid.csv',\n",
    "             'test': f'{folder_path}test.csv'}\n",
    "data_dict = {key: pd.read_csv(path) for key, path in path_dict.items()}\n",
    "data = pd.concat(data_dict, axis=0)"
   ]
  },
  {
   "cell_type": "code",
   "execution_count": 6,
   "metadata": {},
   "outputs": [],
   "source": [
    "# normalization ----------------------------------------------------------\n",
    "scaler = MinMaxScaler()\n",
    "data[params.features] = scaler.fit_transform(data[params.features])"
   ]
  },
  {
   "cell_type": "code",
   "execution_count": 7,
   "metadata": {},
   "outputs": [
    {
     "name": "stdout",
     "output_type": "stream",
     "text": [
      "Total unique cycles: 164\n"
     ]
    }
   ],
   "source": [
    "# split tha dataset into train, valid, test ------------------------------\n",
    "# Identify unique cycles\n",
    "unique_cycles = data['cycle'].unique()\n",
    "print(\"Total unique cycles:\", len(unique_cycles))\n",
    "\n",
    "# Example: 70% train+val, 30% test\n",
    "trainval_cycles, test_cycles = train_test_split(\n",
    "    unique_cycles, test_size=0.2, random_state=42\n",
    ")\n",
    "\n",
    "# Then within trainval, do 80% train, 20% val\n",
    "train_cycles, val_cycles = train_test_split(\n",
    "    trainval_cycles, test_size=0.2, random_state=42\n",
    ")\n",
    "\n",
    "train = data[data['cycle'].isin(train_cycles)]\n",
    "valid = data[data['cycle'].isin(val_cycles)]\n",
    "test = data[data['cycle'].isin(test_cycles)]"
   ]
  },
  {
   "cell_type": "code",
   "execution_count": 8,
   "metadata": {},
   "outputs": [
    {
     "data": {
      "text/plain": [
       "((703, 40, 4), (185, 40, 4))"
      ]
     },
     "execution_count": 8,
     "metadata": {},
     "output_type": "execute_result"
    }
   ],
   "source": [
    "# reshape the train and valid data -----------------------------------------------------------------\n",
    "train_samples, train_targets = data_reshape(train,params.time_window,params.features,params.labels)\n",
    "valid_samples, valid_targets = data_reshape(valid,params.time_window,params.features,params.labels)\n",
    "\n",
    "train_samples.shape, valid_samples.shape"
   ]
  },
  {
   "cell_type": "code",
   "execution_count": 9,
   "metadata": {},
   "outputs": [
    {
     "data": {
      "text/plain": [
       "(33, 40, 4)"
      ]
     },
     "execution_count": 9,
     "metadata": {},
     "output_type": "execute_result"
    }
   ],
   "source": [
    "# take the first n rows on each cycle in test data, then rashape ----------------------------------------\n",
    "test_first_n = pd.DataFrame()\n",
    "for idx, group in test.groupby(params.data_groupby):\n",
    "    if params.time_window <= len(group):\n",
    "        group_head = group[:params.time_window]\n",
    "        test_first_n = pd.concat([test_first_n, group_head])\n",
    "\n",
    "test_samples, test_targets = data_reshape(test_first_n,params.time_window,params.features,params.labels)\n",
    "test_samples.shape"
   ]
  },
  {
   "cell_type": "code",
   "execution_count": 10,
   "metadata": {},
   "outputs": [
    {
     "name": "stderr",
     "output_type": "stream",
     "text": [
      "[I 2025-01-29 05:44:36,409] A new study created in memory with name: no-name-bbaece01-0f41-4c86-96aa-5c31efca32ae\n",
      "2025-01-29 05:44:36.418502: E external/local_xla/xla/stream_executor/cuda/cuda_driver.cc:152] failed call to cuInit: INTERNAL: CUDA error: Failed call to cuInit: UNKNOWN ERROR (303)\n"
     ]
    },
    {
     "name": "stdout",
     "output_type": "stream",
     "text": [
      "model information -> hidden_size: 14, learning_rate: 0.0053295339730306665\n",
      "model information -> hidden_size: 14, learning_rate: 0.007806892173632885\n",
      "model information -> hidden_size: 14, learning_rate: 0.009045252960641393\n",
      "model information -> hidden_size: 14, learning_rate: 0.0054062757915203305\n",
      "model information -> hidden_size: 14, learning_rate: 0.006147142032256287\n",
      "model information -> hidden_size: 14, learning_rate: 0.007625557704980855\n",
      "model information -> hidden_size: 14, learning_rate: 0.009827391128245572\n",
      "model information -> hidden_size: 14, learning_rate: 0.00671364367091124\n"
     ]
    },
    {
     "name": "stderr",
     "output_type": "stream",
     "text": [
      "[I 2025-01-29 05:45:12,003] Trial 6 finished with value: 0.004690081812441349 and parameters: {'learning_rate': 0.009827391128245572}. Best is trial 6 with value: 0.004690081812441349.\n"
     ]
    },
    {
     "name": "stdout",
     "output_type": "stream",
     "text": [
      "model information -> hidden_size: 14, learning_rate: 0.00669315161554923\n"
     ]
    },
    {
     "name": "stderr",
     "output_type": "stream",
     "text": [
      "[I 2025-01-29 05:45:13,866] Trial 7 finished with value: 0.004813781939446926 and parameters: {'learning_rate': 0.00671364367091124}. Best is trial 6 with value: 0.004690081812441349.\n"
     ]
    },
    {
     "name": "stdout",
     "output_type": "stream",
     "text": [
      "model information -> hidden_size: 14, learning_rate: 0.005711830547134918\n"
     ]
    },
    {
     "name": "stderr",
     "output_type": "stream",
     "text": [
      "[I 2025-01-29 05:45:16,209] Trial 5 finished with value: 0.004550213925540447 and parameters: {'learning_rate': 0.007625557704980855}. Best is trial 5 with value: 0.004550213925540447.\n",
      "[I 2025-01-29 05:45:16,571] Trial 0 finished with value: 0.005194704048335552 and parameters: {'learning_rate': 0.0053295339730306665}. Best is trial 5 with value: 0.004550213925540447.\n",
      "[I 2025-01-29 05:45:17,021] Trial 4 finished with value: 0.0061768172308802605 and parameters: {'learning_rate': 0.006147142032256287}. Best is trial 5 with value: 0.004550213925540447.\n",
      "[I 2025-01-29 05:45:17,387] Trial 3 finished with value: 0.00564774964004755 and parameters: {'learning_rate': 0.0054062757915203305}. Best is trial 5 with value: 0.004550213925540447.\n",
      "[I 2025-01-29 05:45:17,536] Trial 2 finished with value: 0.0045790658332407475 and parameters: {'learning_rate': 0.009045252960641393}. Best is trial 5 with value: 0.004550213925540447.\n",
      "[I 2025-01-29 05:45:18,068] Trial 1 finished with value: 0.006914319004863501 and parameters: {'learning_rate': 0.007806892173632885}. Best is trial 5 with value: 0.004550213925540447.\n",
      "[I 2025-01-29 05:45:29,220] Trial 8 finished with value: 0.007153781596571207 and parameters: {'learning_rate': 0.00669315161554923}. Best is trial 5 with value: 0.004550213925540447.\n",
      "[I 2025-01-29 05:45:30,717] Trial 9 finished with value: 0.005574601236730814 and parameters: {'learning_rate': 0.005711830547134918}. Best is trial 5 with value: 0.004550213925540447.\n"
     ]
    },
    {
     "name": "stdout",
     "output_type": "stream",
     "text": [
      "Best hyperparameters: {'learning_rate': 0.007625557704980855}\n"
     ]
    }
   ],
   "source": [
    "# get the best parameters ---------------------------------------------------------------------------\n",
    "study = optuna.create_study(direction='minimize')\n",
    "study.optimize(\n",
    "    lambda trial: bilstm_optmize(trial,train_samples,train_targets,valid_samples,valid_targets),\n",
    "    n_trials=params.n_trials,    # e.g., 10 trials; increase as needed\n",
    "    n_jobs=-1\n",
    ") \n",
    "\n",
    "best_params = study.best_params\n",
    "print(f\"Best hyperparameters: {best_params}\")"
   ]
  },
  {
   "cell_type": "code",
   "execution_count": 11,
   "metadata": {},
   "outputs": [
    {
     "name": "stdout",
     "output_type": "stream",
     "text": [
      "model information -> hidden_size: 14, learning_rate: 0.007625557704980855\n",
      "Final model - Test Loss: 0.009343293495476246, Test MAE: 0.08706462383270264\n"
     ]
    }
   ],
   "source": [
    "# create BiLSTM model with the best parameters\n",
    "final_model = create_bilstm_model(    \n",
    "    # hidden_size=best_params['hidden_size'],\n",
    "    hidden_size=14,\n",
    "    learning_rate=best_params['learning_rate']\n",
    ")\n",
    "\n",
    "# fit the model ------------------------------------------------------------------------------------------\n",
    "final_model.fit(\n",
    "    train_samples,\n",
    "    train_targets,\n",
    "    epochs=100,\n",
    "    batch_size=32,\n",
    "    validation_data=(valid_samples, valid_targets),\n",
    "    verbose=0\n",
    ")\n",
    "\n",
    "# Evaluate on test set -----------------------------------------------------------------------------------\n",
    "test_loss, test_mae = final_model.evaluate(test_samples, test_targets, verbose=0)\n",
    "print(f\"Final model - Test Loss: {test_loss}, Test MAE: {test_mae}\")"
   ]
  },
  {
   "cell_type": "code",
   "execution_count": 12,
   "metadata": {},
   "outputs": [],
   "source": [
    "# Save the final best model -----------------------------------------------------------------\n",
    "final_model.save(f\"{model_save_path}nasa_len{params.time_window}_{str(f\"{test_mae:.4f}\".split(\".\")[1])}.keras\")"
   ]
  },
  {
   "cell_type": "code",
   "execution_count": 13,
   "metadata": {},
   "outputs": [
    {
     "name": "stdout",
     "output_type": "stream",
     "text": [
      "\u001b[1m2/2\u001b[0m \u001b[32m━━━━━━━━━━━━━━━━━━━━\u001b[0m\u001b[37m\u001b[0m \u001b[1m0s\u001b[0m 174ms/step\n"
     ]
    },
    {
     "data": {
      "image/png": "[encoded data removed]",
      "text/plain": [
       "<Figure size 800x400 with 1 Axes>"
      ]
     },
     "metadata": {},
     "output_type": "display_data"
    }
   ],
   "source": [
    "y_pred = final_model.predict(test_samples).flatten()\n",
    "\n",
    "plt.figure(figsize=(8,4))\n",
    "plt.plot(test_targets, label='True Capacity', color='orange')\n",
    "plt.plot(y_pred, label='Predicted Capacity', color='blue', linestyle='--')\n",
    "plt.title('BiLSTM Predicted Capacity vs Ground Truth')\n",
    "plt.xlabel('Test Sample Index')\n",
    "plt.ylabel('Capacity')\n",
    "plt.legend()\n",
    "plt.grid()\n",
    "plt.show()"
   ]
  },
  {
   "cell_type": "code",
   "execution_count": 14,
   "metadata": {},
   "outputs": [
    {
     "data": {
      "text/html": [
       "<pre style=\"white-space:pre;overflow-x:auto;line-height:normal;font-family:Menlo,'DejaVu Sans Mono',consolas,'Courier New',monospace\"><span style=\"font-weight: bold\">Model: \"sequential\"</span>\n",
       "</pre>\n"
      ],
      "text/plain": [
       "\u001b[1mModel: \"sequential\"\u001b[0m\n"
      ]
     },
     "metadata": {},
     "output_type": "display_data"
    },
    {
     "data": {
      "text/html": [
       "<pre style=\"white-space:pre;overflow-x:auto;line-height:normal;font-family:Menlo,'DejaVu Sans Mono',consolas,'Courier New',monospace\">┏━━━━━━━━━━━━━━━━━━━━━━━━━━━━━━━━━┳━━━━━━━━━━━━━━━━━━━━━━━━┳━━━━━━━━━━━━━━━┓\n",
       "┃<span style=\"font-weight: bold\"> Layer (type)                    </span>┃<span style=\"font-weight: bold\"> Output Shape           </span>┃<span style=\"font-weight: bold\">       Param # </span>┃\n",
       "┡━━━━━━━━━━━━━━━━━━━━━━━━━━━━━━━━━╇━━━━━━━━━━━━━━━━━━━━━━━━╇━━━━━━━━━━━━━━━┩\n",
       "│ bidirectional (<span style=\"color: #0087ff; text-decoration-color: #0087ff\">Bidirectional</span>)   │ (<span style=\"color: #00d7ff; text-decoration-color: #00d7ff\">None</span>, <span style=\"color: #00af00; text-decoration-color: #00af00\">28</span>)             │         <span style=\"color: #00af00; text-decoration-color: #00af00\">2,128</span> │\n",
       "├─────────────────────────────────┼────────────────────────┼───────────────┤\n",
       "│ dense (<span style=\"color: #0087ff; text-decoration-color: #0087ff\">Dense</span>)                   │ (<span style=\"color: #00d7ff; text-decoration-color: #00d7ff\">None</span>, <span style=\"color: #00af00; text-decoration-color: #00af00\">1</span>)              │            <span style=\"color: #00af00; text-decoration-color: #00af00\">29</span> │\n",
       "└─────────────────────────────────┴────────────────────────┴───────────────┘\n",
       "</pre>\n"
      ],
      "text/plain": [
       "┏━━━━━━━━━━━━━━━━━━━━━━━━━━━━━━━━━┳━━━━━━━━━━━━━━━━━━━━━━━━┳━━━━━━━━━━━━━━━┓\n",
       "┃\u001b[1m \u001b[0m\u001b[1mLayer (type)                   \u001b[0m\u001b[1m \u001b[0m┃\u001b[1m \u001b[0m\u001b[1mOutput Shape          \u001b[0m\u001b[1m \u001b[0m┃\u001b[1m \u001b[0m\u001b[1m      Param #\u001b[0m\u001b[1m \u001b[0m┃\n",
       "┡━━━━━━━━━━━━━━━━━━━━━━━━━━━━━━━━━╇━━━━━━━━━━━━━━━━━━━━━━━━╇━━━━━━━━━━━━━━━┩\n",
       "│ bidirectional (\u001b[38;5;33mBidirectional\u001b[0m)   │ (\u001b[38;5;45mNone\u001b[0m, \u001b[38;5;34m28\u001b[0m)             │         \u001b[38;5;34m2,128\u001b[0m │\n",
       "├─────────────────────────────────┼────────────────────────┼───────────────┤\n",
       "│ dense (\u001b[38;5;33mDense\u001b[0m)                   │ (\u001b[38;5;45mNone\u001b[0m, \u001b[38;5;34m1\u001b[0m)              │            \u001b[38;5;34m29\u001b[0m │\n",
       "└─────────────────────────────────┴────────────────────────┴───────────────┘\n"
      ]
     },
     "metadata": {},
     "output_type": "display_data"
    },
    {
     "data": {
      "text/html": [
       "<pre style=\"white-space:pre;overflow-x:auto;line-height:normal;font-family:Menlo,'DejaVu Sans Mono',consolas,'Courier New',monospace\"><span style=\"font-weight: bold\"> Total params: </span><span style=\"color: #00af00; text-decoration-color: #00af00\">6,473</span> (25.29 KB)\n",
       "</pre>\n"
      ],
      "text/plain": [
       "\u001b[1m Total params: \u001b[0m\u001b[38;5;34m6,473\u001b[0m (25.29 KB)\n"
      ]
     },
     "metadata": {},
     "output_type": "display_data"
    },
    {
     "data": {
      "text/html": [
       "<pre style=\"white-space:pre;overflow-x:auto;line-height:normal;font-family:Menlo,'DejaVu Sans Mono',consolas,'Courier New',monospace\"><span style=\"font-weight: bold\"> Trainable params: </span><span style=\"color: #00af00; text-decoration-color: #00af00\">2,157</span> (8.43 KB)\n",
       "</pre>\n"
      ],
      "text/plain": [
       "\u001b[1m Trainable params: \u001b[0m\u001b[38;5;34m2,157\u001b[0m (8.43 KB)\n"
      ]
     },
     "metadata": {},
     "output_type": "display_data"
    },
    {
     "data": {
      "text/html": [
       "<pre style=\"white-space:pre;overflow-x:auto;line-height:normal;font-family:Menlo,'DejaVu Sans Mono',consolas,'Courier New',monospace\"><span style=\"font-weight: bold\"> Non-trainable params: </span><span style=\"color: #00af00; text-decoration-color: #00af00\">0</span> (0.00 B)\n",
       "</pre>\n"
      ],
      "text/plain": [
       "\u001b[1m Non-trainable params: \u001b[0m\u001b[38;5;34m0\u001b[0m (0.00 B)\n"
      ]
     },
     "metadata": {},
     "output_type": "display_data"
    },
    {
     "data": {
      "text/html": [
       "<pre style=\"white-space:pre;overflow-x:auto;line-height:normal;font-family:Menlo,'DejaVu Sans Mono',consolas,'Courier New',monospace\"><span style=\"font-weight: bold\"> Optimizer params: </span><span style=\"color: #00af00; text-decoration-color: #00af00\">4,316</span> (16.86 KB)\n",
       "</pre>\n"
      ],
      "text/plain": [
       "\u001b[1m Optimizer params: \u001b[0m\u001b[38;5;34m4,316\u001b[0m (16.86 KB)\n"
      ]
     },
     "metadata": {},
     "output_type": "display_data"
    }
   ],
   "source": [
    "final_model.summary()"
   ]
  }
 ],
 "metadata": {
  "kernelspec": {
   "display_name": "venvSANDIA",
   "language": "python",
   "name": "python3"
  },
  "language_info": {
   "codemirror_mode": {
    "name": "ipython",
    "version": 3
   },
   "file_extension": ".py",
   "mimetype": "text/x-python",
   "name": "python",
   "nbconvert_exporter": "python",
   "pygments_lexer": "ipython3",
   "version": "3.12.3"
  }
 },
 "nbformat": 4,
 "nbformat_minor": 2
}
