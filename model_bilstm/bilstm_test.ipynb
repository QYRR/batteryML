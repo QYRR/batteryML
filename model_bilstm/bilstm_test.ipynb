{
 "cells": [
  {
   "cell_type": "code",
   "execution_count": 4,
   "metadata": {},
   "outputs": [
    {
     "name": "stdout",
     "output_type": "stream",
     "text": [
      "The autoreload extension is already loaded. To reload it, use:\n",
      "  %reload_ext autoreload\n"
     ]
    }
   ],
   "source": [
    "# %reset -f\n",
    "%load_ext autoreload\n",
    "%autoreload 2\n",
    "\n",
    "import sys\n",
    "from pathlib import Path\n",
    "\n",
    "dist_to_root = 0    # the distance to project root folder\n",
    "_project_root = Path.cwd().parents[dist_to_root]\n",
    "if str(_project_root) not in sys.path:\n",
    "    sys.path.insert(0, str(_project_root))\n",
    "    \n",
    "from utils import bilstm_optmize, load_parameters, data_reshape_generator, create_bilstm_model, data_reshape"
   ]
  },
  {
   "cell_type": "code",
   "execution_count": 5,
   "metadata": {},
   "outputs": [],
   "source": [
    "from sklearn.metrics import r2_score\n",
    "import pandas as pd\n",
    "import numpy as np\n",
    "import tensorflow as tf\n",
    "from sklearn.preprocessing import MinMaxScaler\n",
    "from sklearn.model_selection import train_test_split\n",
    "import optuna\n",
    "import matplotlib.pyplot as plt\n",
    "from tensorflow.keras.models import load_model\n",
    "from sklearn.metrics import mean_absolute_error\n",
    "from sklearn.metrics import r2_score\n",
    "\n",
    "# optuna.logging.set_verbosity(optuna.logging.WARNING)\n",
    "\n",
    "random_seed = 42\n",
    "np.random.seed(random_seed)"
   ]
  },
  {
   "cell_type": "code",
   "execution_count": 6,
   "metadata": {},
   "outputs": [
    {
     "name": "stdout",
     "output_type": "stream",
     "text": [
      "dataset: nasa\n",
      "labels: ['capacity']\n",
      "features: ['voltage', 'current', 'temperature', 'relativeTime']\n",
      "data_groupby: ['cycle']\n",
      "sequence_length: 50\n",
      "n_trials: 30\n"
     ]
    }
   ],
   "source": [
    "# load the parameters from file ---------------------------------------------------------\n",
    "params = load_parameters('parameters.yaml')\n",
    "# hidden_size = 14"
   ]
  },
  {
   "cell_type": "code",
   "execution_count": 7,
   "metadata": {},
   "outputs": [],
   "source": [
    "model_dict = {\n",
    "    5: 'model_nasa/nasa_len5_0_0205.keras',\n",
    "    10: 'model_nasa/nasa_len10_0_0231.keras',\n",
    "    20: 'model_nasa/nasa_len20_0_0143.keras',\n",
    "    30: 'model_nasa/nasa_len30_0_0145.keras',\n",
    "    50: 'model_nasa/nasa_len50_0_0195.keras'\n",
    "}"
   ]
  },
  {
   "cell_type": "code",
   "execution_count": 8,
   "metadata": {},
   "outputs": [],
   "source": [
    "import math\n",
    "def split_without_overlap_fixed(group: pd.DataFrame, split_size: int):\n",
    "    length = len(group)\n",
    "    num_splits = math.floor(length / split_size)  # Calculate number of splits\n",
    "\n",
    "    splits = []\n",
    "    start = 0\n",
    "    for i in range(num_splits):\n",
    "        end = min(start + split_size, length)\n",
    "        splits.append(group[start:end])\n",
    "        start += split_size     # update the start position\n",
    "\n",
    "    return splits"
   ]
  },
  {
   "cell_type": "code",
   "execution_count": 9,
   "metadata": {},
   "outputs": [],
   "source": [
    "def generate_test_firstN(test,sequence_length):\n",
    "    # generate the test data\n",
    "    first_n_list = []\n",
    "    for idx, group in test.groupby(params.data_groupby):\n",
    "        if sequence_length <= len(group):\n",
    "            group_head = group[:sequence_length]\n",
    "            first_n_list.append(group_head)\n",
    "    df = pd.concat(first_n_list,ignore_index=True)\n",
    "    test_samples, test_targets = data_reshape(df, params.data_groupby, sequence_length, params.features, params.labels)\n",
    "    return test_samples, test_targets"
   ]
  },
  {
   "cell_type": "code",
   "execution_count": 10,
   "metadata": {},
   "outputs": [],
   "source": [
    "def generate_test_eachN(test,sequence_length):\n",
    "    test_samples, test_targets = data_reshape(test, params.data_groupby, sequence_length, params.features, params.labels)\n",
    "    return test_samples, test_targets"
   ]
  },
  {
   "cell_type": "code",
   "execution_count": 11,
   "metadata": {},
   "outputs": [
    {
     "name": "stdout",
     "output_type": "stream",
     "text": [
      "sequence_length = 5\n"
     ]
    },
    {
     "name": "stderr",
     "output_type": "stream",
     "text": [
      "2025-03-17 17:00:41.012030: E external/local_xla/xla/stream_executor/cuda/cuda_driver.cc:152] failed call to cuInit: INTERNAL: CUDA error: Failed call to cuInit: UNKNOWN ERROR (303)\n"
     ]
    },
    {
     "name": "stdout",
     "output_type": "stream",
     "text": [
      "MAE = 0.008693645583608791, r2 = 0.9948468140224835\n",
      "sequence_length = 10\n",
      "MAE = 0.014392305102534723, r2 = 0.9923161875930943\n",
      "sequence_length = 20\n",
      "MAE = 0.010254316786441363, r2 = 0.992986232445898\n",
      "sequence_length = 30\n",
      "MAE = 0.012859118567827045, r2 = 0.9888864189485923\n",
      "sequence_length = 50\n",
      "MAE = 0.01698906852960191, r2 = 0.9843994764961096\n"
     ]
    }
   ],
   "source": [
    "test = pd.read_csv('data_nasa/test_normalized.csv')\n",
    "\n",
    "for sequence_length in [5,10,20,30,50]:\n",
    "    print(f'sequence_length = {sequence_length}')\n",
    "    test_samples, test_targets = generate_test_eachN(test,sequence_length)\n",
    "    # get the model\n",
    "    model = load_model(model_dict.get(sequence_length))\n",
    "    pred = model.predict(test_samples, verbose=0)\n",
    "    mae = mean_absolute_error(test_targets, pred)\n",
    "    r2 = r2_score(test_targets, pred)\n",
    "\n",
    "    print(f\"MAE = {mae}, r2 = {r2}\")"
   ]
  }
 ],
 "metadata": {
  "kernelspec": {
   "display_name": "Python 3",
   "language": "python",
   "name": "python3"
  },
  "language_info": {
   "codemirror_mode": {
    "name": "ipython",
    "version": 3
   },
   "file_extension": ".py",
   "mimetype": "text/x-python",
   "name": "python",
   "nbconvert_exporter": "python",
   "pygments_lexer": "ipython3",
   "version": "3.12.3"
  }
 },
 "nbformat": 4,
 "nbformat_minor": 2
}
